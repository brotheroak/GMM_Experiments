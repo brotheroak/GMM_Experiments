{
 "cells": [
  {
   "cell_type": "markdown",
   "metadata": {},
   "source": [
    "# GMM-based Speaker Recognition"
   ]
  },
  {
   "cell_type": "code",
   "execution_count": 1,
   "metadata": {},
   "outputs": [],
   "source": [
    "import sklearn.mixture as mixture\n",
    "import numpy as np\n",
    "import librosa\n",
    "import pdb\n",
    "import glob\n",
    "import matplotlib.pyplot as plt\n",
    "from matplotlib.colors import LogNorm\n",
    "from mpl_toolkits.mplot3d import Axes3D\n",
    "import matplotlib as cm"
   ]
  },
  {
   "cell_type": "markdown",
   "metadata": {},
   "source": [
    "## Training GMM"
   ]
  },
  {
   "cell_type": "markdown",
   "metadata": {},
   "source": [
    "### load dataset"
   ]
  },
  {
   "cell_type": "code",
   "execution_count": 23,
   "metadata": {},
   "outputs": [],
   "source": [
    "tr_dataset = np.load('./gmm_tr_data.npz',allow_pickle=True)\n",
    "tr_data = tr_dataset['x']\n",
    "tr_label = tr_dataset['y']\n",
    "tr_dataset.close()\n",
    "test_dataset = np.load('./gmm_test_data.npz',allow_pickle=True)\n",
    "test_data = test_dataset['x']\n",
    "test_label = test_dataset['y']\n",
    "test_dataset.close()"
   ]
  },
  {
   "cell_type": "code",
   "execution_count": 24,
   "metadata": {},
   "outputs": [
    {
     "data": {
      "text/plain": [
       "(3,)"
      ]
     },
     "execution_count": 24,
     "metadata": {},
     "output_type": "execute_result"
    }
   ],
   "source": [
    "np.shape(test_data)"
   ]
  },
  {
   "cell_type": "markdown",
   "metadata": {},
   "source": [
    "### Train GMM"
   ]
  },
  {
   "cell_type": "code",
   "execution_count": 25,
   "metadata": {},
   "outputs": [],
   "source": [
    "def define_GMM(n_mixture):\n",
    "    return mixture.GaussianMixture(n_components=n_mixture, covariance_type='diag')"
   ]
  },
  {
   "cell_type": "code",
   "execution_count": 26,
   "metadata": {},
   "outputs": [],
   "source": [
    "n_mixture = 4\n",
    "\n",
    "GMM_model = {}\n",
    "for i in tr_label:\n",
    "    GMM_model[i] = define_GMM(n_mixture)\n",
    "    GMM_model[i].fit(tr_data[i])"
   ]
  },
  {
   "cell_type": "markdown",
   "metadata": {},
   "source": [
    "### Test GMM"
   ]
  },
  {
   "cell_type": "code",
   "execution_count": 27,
   "metadata": {
    "scrolled": true
   },
   "outputs": [
    {
     "name": "stdout",
     "output_type": "stream",
     "text": [
      "Estimated: 2, True: 0     incorrect...\n",
      "Estimated: 2, True: 1     incorrect...\n",
      "Estimated: 2, True: 2     correct!\n",
      "ACC:33.33\n"
     ]
    }
   ],
   "source": [
    "ACC = 0\n",
    "for i, data in enumerate(test_data):\n",
    "    candidates=[]\n",
    "    # Calculate likelihood scores for all the trained GMMs.\n",
    "    for spk in GMM_model.keys():\n",
    "        score = GMM_model[spk].score(data)\n",
    "#        print(\"spk {} : {}\".format(spk, score))\n",
    "        candidates.append(score)\n",
    "    candidates = np.array(candidates)\n",
    "    \n",
    "    estimated_speaker_label = np.argmax(candidates)\n",
    "    print(\"Estimated: {}, True: {}\".format(estimated_speaker_label, test_label[i]), end=' '*5)\n",
    "    if test_label[i] == estimated_speaker_label:\n",
    "        print(\"correct!\")\n",
    "        ACC += 1\n",
    "    else:\n",
    "        print(\"incorrect...\")\n",
    "print(\"ACC:{:.2f}\".format(ACC/len(test_label)*100.))   "
   ]
  },
  {
   "cell_type": "code",
   "execution_count": null,
   "metadata": {},
   "outputs": [],
   "source": []
  }
 ],
 "metadata": {
  "kernelspec": {
   "display_name": "Python 3",
   "language": "python",
   "name": "python3"
  },
  "language_info": {
   "codemirror_mode": {
    "name": "ipython",
    "version": 3
   },
   "file_extension": ".py",
   "mimetype": "text/x-python",
   "name": "python",
   "nbconvert_exporter": "python",
   "pygments_lexer": "ipython3",
   "version": "3.7.3"
  }
 },
 "nbformat": 4,
 "nbformat_minor": 2
}
